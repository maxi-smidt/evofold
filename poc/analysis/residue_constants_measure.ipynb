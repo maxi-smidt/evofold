{
 "cells": [
  {
   "cell_type": "markdown",
   "id": "57ae42b74be93d5b",
   "metadata": {},
   "source": [
    "# Residue Constants"
   ]
  },
  {
   "cell_type": "code",
   "id": "68e08fbfa8ccc283",
   "metadata": {
    "ExecuteTime": {
     "end_time": "2024-12-09T12:36:03.445781Z",
     "start_time": "2024-12-09T12:36:03.144495Z"
    }
   },
   "source": [
    "import json\n",
    "import math\n",
    "import matplotlib.pyplot as plt\n",
    "import numpy as np\n",
    "import os\n",
    "\n",
    "from collections import defaultdict\n",
    "from poc.analysis.af_residue_constants import rigid_group_atom_positions"
   ],
   "outputs": [],
   "execution_count": 3
  },
  {
   "cell_type": "markdown",
   "id": "45907849d649b939",
   "metadata": {},
   "source": [
    "## Sample Files"
   ]
  },
  {
   "cell_type": "code",
   "id": "363f8a4c7b3d24dc",
   "metadata": {
    "ExecuteTime": {
     "end_time": "2024-12-09T12:37:09.663244Z",
     "start_time": "2024-12-09T12:37:09.652368Z"
    }
   },
   "source": [
    "data_dir = 'data'\n",
    "transformed_data = data_dir + '/transformed.json'\n",
    "if os.path.exists(transformed_data):\n",
    "    os.remove(transformed_data)\n",
    "samples = [os.path.join(data_dir, filename) for filename in os.listdir(data_dir)]\n",
    "samples = [sample for sample in samples if '.DS_Store' not in sample]\n",
    "samples"
   ],
   "outputs": [
    {
     "data": {
      "text/plain": [
       "['data/3cln.cif',\n",
       " 'data/2bl2.cif',\n",
       " 'data/8zts.cif',\n",
       " 'data/4hhb.cif',\n",
       " 'data/8xnj.cif',\n",
       " 'data/1stp.cif',\n",
       " 'data/4ake.cif',\n",
       " 'data/2hhb.cif',\n",
       " 'data/9f2a.cif',\n",
       " 'data/5t4p.cif',\n",
       " 'data/6m17.cif',\n",
       " 'data/9jwd.cif',\n",
       " 'data/1a4y.cif',\n",
       " 'data/9h44.cif',\n",
       " 'data/8ykn.cif']"
      ]
     },
     "execution_count": 8,
     "metadata": {},
     "output_type": "execute_result"
    }
   ],
   "execution_count": 8
  },
  {
   "cell_type": "markdown",
   "id": "cc537c178926677a",
   "metadata": {},
   "source": "## Process files to new format"
  },
  {
   "cell_type": "code",
   "id": "961f07699c6efa6d",
   "metadata": {
    "ExecuteTime": {
     "end_time": "2024-12-09T12:37:11.584451Z",
     "start_time": "2024-12-09T12:37:11.082011Z"
    }
   },
   "source": [
    "amino_acids = []\n",
    "for sample in samples:\n",
    "    with open(sample, 'r') as f:\n",
    "        chain_before = None\n",
    "        seq_id_before = None\n",
    "        current_aa = []\n",
    "        current_chain = defaultdict(list)\n",
    "        for line in f:\n",
    "            data = line.strip().split()\n",
    "            if data[0] != 'ATOM': continue\n",
    "            seq_id = data[8]\n",
    "            chain = data[18]\n",
    "            if chain != chain_before and chain_before is not None:\n",
    "                amino_acids.append(*current_chain.values())\n",
    "                current_chain = defaultdict(list)\n",
    "            if seq_id != seq_id_before and seq_id_before is not None:\n",
    "                current_chain[chain].append(current_aa)\n",
    "                current_aa = []\n",
    "            aa = data[5]\n",
    "            atom_id = data[3]\n",
    "            x = float(data[10])\n",
    "            y = float(data[11])\n",
    "            z = float(data[12])\n",
    "            if len(current_aa) == 0:\n",
    "                current_aa.append(data[5])\n",
    "            current_aa.append((atom_id, x, y, z))\n",
    "            chain_before = chain\n",
    "            seq_id_before = seq_id\n",
    "        amino_acids.append(*current_chain.values())\n",
    "\n",
    "with open(transformed_data, 'w') as f:\n",
    "    json.dump(amino_acids, f, indent=4)"
   ],
   "outputs": [],
   "execution_count": 9
  },
  {
   "metadata": {},
   "cell_type": "markdown",
   "source": "## Data stats",
   "id": "18a84f2707fda643"
  },
  {
   "cell_type": "code",
   "id": "8e2db8aa3acbdec",
   "metadata": {
    "ExecuteTime": {
     "end_time": "2024-12-09T13:24:19.758201Z",
     "start_time": "2024-12-09T13:24:19.578462Z"
    }
   },
   "source": [
    "disassembled_acids = defaultdict(int)\n",
    "for chain in amino_acids:\n",
    "    for aa in chain:\n",
    "        disassembled_acids[aa[0]] += 1\n",
    "\n",
    "total = sum(disassembled_acids.values())\n",
    "plt.figure(figsize=(10, 6))\n",
    "plt.bar(disassembled_acids.keys(), list(disassembled_acids.values()), width=0.4)\n",
    "plt.show()\n",
    "\n",
    "print('Total analyzed amino acids:', total)\n"
   ],
   "outputs": [
    {
     "data": {
      "text/plain": [
       "<Figure size 1000x600 with 1 Axes>"
      ],
      "image/png": "[encoded data removed]"
     },
     "metadata": {},
     "output_type": "display_data"
    },
    {
     "name": "stdout",
     "output_type": "stream",
     "text": [
      "Total analyzed amino acids: 16611\n"
     ]
    }
   ],
   "execution_count": 30
  },
  {
   "cell_type": "markdown",
   "id": "5f97e3b5eed754eb",
   "metadata": {},
   "source": [
    "### Alpha Folds Measurements"
   ]
  },
  {
   "metadata": {
    "ExecuteTime": {
     "end_time": "2024-12-08T20:39:49.563963Z",
     "start_time": "2024-12-08T20:39:49.560630Z"
    }
   },
   "cell_type": "code",
   "outputs": [],
   "execution_count": 7,
   "source": [
    "af_rigid_atom_positions = defaultdict(lambda: defaultdict(float))\n",
    "for aa, atoms in rigid_group_atom_positions.items():\n",
    "    for atom in atoms:\n",
    "        af_rigid_atom_positions[aa][atom[0]] = math.sqrt(atom[2][0]**2 + atom[2][1]**2 + atom[2][2]**2)"
   ],
   "id": "11739a25de0ff63a"
  },
  {
   "metadata": {},
   "cell_type": "markdown",
   "source": "### Ca - Ca distance",
   "id": "e4315e09745531c4"
  },
  {
   "metadata": {
    "ExecuteTime": {
     "end_time": "2024-12-09T15:05:18.477922Z",
     "start_time": "2024-12-09T15:05:18.446206Z"
    }
   },
   "cell_type": "code",
   "source": [
    "ca_ca_distances = []\n",
    "af_ca_ca = 3.80209737096\n",
    "for chain in amino_acids:\n",
    "    ca_before = None\n",
    "    for aa in chain:\n",
    "        for atom in aa[1:]:\n",
    "            if atom[0] != 'CA': continue\n",
    "            if ca_before is None:\n",
    "                ca_before = atom\n",
    "                continue\n",
    "            ca_ca_distances.append(\n",
    "                math.sqrt(\n",
    "                    (ca_before[1]-atom[1])**2 + (ca_before[2]-atom[2])**2 + (ca_before[3]-atom[3])**2\n",
    "                )\n",
    "            )\n",
    "            ca_before = atom\n",
    "\n",
    "ca_ca_distances = np.array(list(filter(lambda v: 2.5 < v < 4.5, ca_ca_distances)))\n",
    "# ca_ca_distances = np.array(ca_ca_distances)"
   ],
   "id": "276fba8c9fcf79a3",
   "outputs": [],
   "execution_count": 76
  },
  {
   "metadata": {
    "ExecuteTime": {
     "end_time": "2024-12-09T15:05:18.954733Z",
     "start_time": "2024-12-09T15:05:18.879738Z"
    }
   },
   "cell_type": "code",
   "source": [
    "plt.boxplot(ca_ca_distances, vert=False)\n",
    "plt.axvline(x=af_ca_ca, color='red', linestyle='--', linewidth=0.5)\n",
    "\n",
    "handles = [\n",
    "    plt.Line2D([0], [0], color='blue', label=f\"Mean: {np.mean(ca_ca_distances):.10f}\"),\n",
    "    plt.Line2D([0], [0], color='orange', label=f\"Median: {np.median(ca_ca_distances):.10f}\"),\n",
    "    plt.Line2D([0], [0], color='red', linestyle='--', linewidth=0.5, label=f\"Reference: {af_ca_ca:.10f}\")\n",
    "]\n",
    "plt.legend(handles=handles, loc='upper right')\n",
    "\n",
    "plt.title('Ca-Ca distance')\n",
    "plt.xlabel('Distance [Å]')\n",
    "plt.show()"
   ],
   "id": "4b4350e0e89b5bd",
   "outputs": [
    {
     "data": {
      "text/plain": [
       "<Figure size 640x480 with 1 Axes>"
      ],
      "image/png": "[encoded data removed]"
     },
     "metadata": {},
     "output_type": "display_data"
    }
   ],
   "execution_count": 77
  },
  {
   "metadata": {},
   "cell_type": "markdown",
   "source": "### C - N distance",
   "id": "fd7f21d172f76188"
  },
  {
   "metadata": {
    "ExecuteTime": {
     "end_time": "2024-12-09T15:05:28.666794Z",
     "start_time": "2024-12-09T15:05:28.627936Z"
    }
   },
   "cell_type": "code",
   "source": [
    "c_n_distances = []\n",
    "for chain in amino_acids:\n",
    "    c_before = None\n",
    "    for aa in chain:\n",
    "        for atom in aa[1:]:\n",
    "            if atom[0] not in ['C', 'N']: continue\n",
    "            if c_before is None and atom[0] == 'C':\n",
    "                c_before = atom\n",
    "                continue\n",
    "            if c_before is not None and atom[0] == 'N':\n",
    "                c_n_distances.append(\n",
    "                    math.sqrt(\n",
    "                         (c_before[1]-atom[1])**2 + (c_before[2]-atom[2])**2 + (c_before[3]-atom[3])**2\n",
    "                    )\n",
    "                )\n",
    "                c_before = None\n",
    "\n",
    "c_n_distances = np.array(list(filter(lambda v: 1 < v < 2, c_n_distances)))\n",
    "# c_n_distances = np.array(c_n_distances)"
   ],
   "id": "a6564d1a2e19a020",
   "outputs": [],
   "execution_count": 78
  },
  {
   "metadata": {
    "ExecuteTime": {
     "end_time": "2024-12-09T15:05:31.304829Z",
     "start_time": "2024-12-09T15:05:31.237889Z"
    }
   },
   "cell_type": "code",
   "source": [
    "plt.boxplot(c_n_distances, vert=False)\n",
    "\n",
    "handles = [\n",
    "    plt.Line2D([0], [0], color='blue', label=f\"Mean: {np.mean(c_n_distances):.10f}\"),\n",
    "    plt.Line2D([0], [0], color='orange', label=f\"Median: {np.median(c_n_distances):.10f}\"),\n",
    "]\n",
    "plt.legend(handles=handles, loc='upper right')\n",
    "\n",
    "plt.title('C-N distance')\n",
    "plt.xlabel('Distance [Å]')\n",
    "plt.show()"
   ],
   "id": "7349d8d5a7f7361e",
   "outputs": [
    {
     "data": {
      "text/plain": [
       "<Figure size 640x480 with 1 Axes>"
      ],
      "image/png": "[encoded data removed]"
     },
     "metadata": {},
     "output_type": "display_data"
    }
   ],
   "execution_count": 79
  },
  {
   "metadata": {},
   "cell_type": "markdown",
   "source": "## Angles",
   "id": "9eedb8c254181098"
  },
  {
   "metadata": {
    "ExecuteTime": {
     "end_time": "2024-12-09T18:48:13.805782Z",
     "start_time": "2024-12-09T18:48:13.768375Z"
    }
   },
   "cell_type": "code",
   "source": [
    "def unit_vector(vector):\n",
    "    return vector / np.linalg.norm(vector)\n",
    "\n",
    "def calculate_angle(p1, p2, p3):\n",
    "    v1_u = p1 - p2#unit_vector(p1 - p2)\n",
    "    v2_u = p3 - p2#unit_vector(p3 - p2)\n",
    "    print('v1', v1_u)\n",
    "    print('v2', v2_u)\n",
    "    return np.degrees(np.arccos(np.clip(np.dot(v1_u, v2_u), -1.0, 1.0)))"
   ],
   "id": "60cfc4f178efec1b",
   "outputs": [],
   "execution_count": 119
  },
  {
   "metadata": {},
   "cell_type": "markdown",
   "source": "The first two angles are completely within one amino acid, so the data is processed accordingly.",
   "id": "76e29009a303162b"
  },
  {
   "metadata": {
    "ExecuteTime": {
     "end_time": "2024-12-09T18:24:37.158757Z",
     "start_time": "2024-12-09T18:24:37.139145Z"
    }
   },
   "cell_type": "code",
   "source": [
    "aas = defaultdict(list)\n",
    "for chain in amino_acids:\n",
    "    for aa in chain:\n",
    "        aas[aa[0]].append(aa[1:])\n"
   ],
   "id": "aec679c8664e2ff",
   "outputs": [],
   "execution_count": 100
  },
  {
   "metadata": {},
   "cell_type": "markdown",
   "source": "### N - Ca - C\n",
   "id": "12e2956674dbfed2"
  },
  {
   "metadata": {
    "ExecuteTime": {
     "end_time": "2024-12-09T18:33:52.441990Z",
     "start_time": "2024-12-09T18:33:52.252470Z"
    }
   },
   "cell_type": "code",
   "source": [
    "angles_per_aa = defaultdict(list)\n",
    "for key, values in aas.items():\n",
    "    for aa in values:\n",
    "        n = next(atom for atom in aa if atom[0] == 'N')\n",
    "        ca = next(atom for atom in aa if atom[0] == 'CA')\n",
    "        c = next(atom for atom in aa if atom[0] == 'C')\n",
    "        angle = calculate_angle(np.array(ca[1:]), np.array(c[1:]), np.array(n[1:]))\n",
    "        angles_per_aa[key].append(angle)\n",
    "\n",
    "all_angles = np.array([])\n",
    "for key, values in angles_per_aa.items():\n",
    "    all_angles = np.append(all_angles, values)"
   ],
   "id": "1ddc7ff426d28ba7",
   "outputs": [],
   "execution_count": 111
  },
  {
   "metadata": {
    "ExecuteTime": {
     "end_time": "2024-12-09T18:48:37.084864Z",
     "start_time": "2024-12-09T18:48:37.024777Z"
    }
   },
   "cell_type": "code",
   "source": [
    "plt.boxplot(all_angles, vert=False)\n",
    "\n",
    "handles = [\n",
    "    plt.Line2D([0], [0], color='blue', label=f\"Mean: {np.mean(all_angles):.10f}\"),\n",
    "    plt.Line2D([0], [0], color='orange', label=f\"Median: {np.median(all_angles):.10f}\"),\n",
    "]\n",
    "plt.legend(handles=handles, loc='upper right')\n",
    "\n",
    "plt.title('N-Ca-C angle')\n",
    "plt.xlabel('Angle [°]')\n",
    "plt.show()"
   ],
   "id": "4b70b5a1d844fa38",
   "outputs": [
    {
     "data": {
      "text/plain": [
       "<Figure size 640x480 with 1 Axes>"
      ],
      "image/png": "[encoded data removed]"
     },
     "metadata": {},
     "output_type": "display_data"
    }
   ],
   "execution_count": 124
  },
  {
   "metadata": {},
   "cell_type": "markdown",
   "source": "### Ca - C - O",
   "id": "5cac49050e6f715"
  },
  {
   "metadata": {
    "ExecuteTime": {
     "end_time": "2024-12-09T18:48:38.288495Z",
     "start_time": "2024-12-09T18:48:38.275362Z"
    }
   },
   "cell_type": "code",
   "source": [
    "angles_per_aa = defaultdict(list)\n",
    "for key, values in aas.items():\n",
    "    for aa in values:\n",
    "        n = next(atom for atom in aa if atom[0] == 'CA')\n",
    "        ca = next(atom for atom in aa if atom[0] == 'C')\n",
    "        c = next(atom for atom in aa if atom[0] == 'O')\n",
    "        angle = calculate_angle(np.array(ca[1:]), np.array(c[1:]), np.array(n[1:]))\n",
    "        angles_per_aa[key].append(angle)\n",
    "        break\n",
    "all_angles = np.array([])\n",
    "for key, values in angles_per_aa.items():\n",
    "    all_angles = np.append(all_angles, values)\n"
   ],
   "id": "1252d3ffa7f71795",
   "outputs": [
    {
     "name": "stdout",
     "output_type": "stream",
     "text": [
      "v1 [-0.869 -0.877  0.044]\n",
      "v2 [-0.839 -1.981 -1.013]\n",
      "v1 [-0.406 -1.17  -0.158]\n",
      "v2 [-1.739 -1.459 -0.83 ]\n",
      "v1 [-1.061 -0.639  0.133]\n",
      "v2 [-1.023 -2.132  0.426]\n",
      "v1 [-0.652 -1.052  0.196]\n",
      "v2 [-1.292 -1.812 -0.963]\n",
      "v1 [-0.623 -1.047 -0.227]\n",
      "v2 [-2.14  -1.112 -0.068]\n",
      "v1 [-0.826 -0.882  0.32 ]\n",
      "v2 [-0.631 -2.291 -0.258]\n",
      "v1 [-0.393 -1.189  0.078]\n",
      "v2 [-1.611 -1.703 -0.706]\n",
      "v1 [-0.121 -1.16  -0.439]\n",
      "v2 [-1.561 -1.56  -0.523]\n",
      "v1 [-0.744 -0.928 -0.35 ]\n",
      "v2 [-1.039 -2.101  0.596]\n",
      "v1 [ 0.74   0.177 -0.949]\n",
      "v2 [ 0.405 -0.499 -2.27 ]\n",
      "v1 [ 1.142  0.206 -0.467]\n",
      "v2 [ 2.346 -0.388  0.219]\n",
      "v1 [-0.758  0.807 -0.569]\n",
      "v2 [-1.983  1.287  0.216]\n",
      "v1 [-0.97   0.755 -0.088]\n",
      "v2 [-2.231  0.331 -0.881]\n",
      "v1 [-1.18   0.219 -0.386]\n",
      "v2 [-1.498  0.955 -1.68 ]\n",
      "v1 [-0.742 -0.636  0.736]\n",
      "v2 [-0.373 -0.916  2.194]\n",
      "v1 [ 0.246 -0.778 -0.946]\n",
      "v2 [ 0.489 -2.248 -0.645]\n",
      "v1 [-0.551  0.794 -0.777]\n",
      "v2 [-0.215  2.279 -0.759]\n",
      "v1 [ 0.708  0.992 -0.141]\n",
      "v2 [ 2.185  0.843 -0.509]\n",
      "v1 [ 0.002 -1.22   0.207]\n",
      "v2 [ 1.262 -2.045 -0.025]\n",
      "v1 [-0.352  1.141  0.304]\n",
      "v2 [-0.353  1.616  1.756]\n"
     ]
    }
   ],
   "execution_count": 125
  },
  {
   "metadata": {
    "ExecuteTime": {
     "end_time": "2024-12-09T18:48:38.929506Z",
     "start_time": "2024-12-09T18:48:38.883218Z"
    }
   },
   "cell_type": "code",
   "source": [
    "plt.boxplot(all_angles, vert=False)\n",
    "\n",
    "handles = [\n",
    "    plt.Line2D([0], [0], color='blue', label=f\"Mean: {np.mean(all_angles):.10f}\"),\n",
    "    plt.Line2D([0], [0], color='orange', label=f\"Median: {np.median(all_angles):.10f}\"),\n",
    "]\n",
    "plt.legend(handles=handles, loc='upper right')\n",
    "\n",
    "plt.title('N-Ca-C angle')\n",
    "plt.xlabel('Angle [°]')\n",
    "plt.show()"
   ],
   "id": "373432a558e827f",
   "outputs": [
    {
     "data": {
      "text/plain": [
       "<Figure size 640x480 with 1 Axes>"
      ],
      "image/png": "[encoded data removed]"
     },
     "metadata": {},
     "output_type": "display_data"
    }
   ],
   "execution_count": 126
  },
  {
   "metadata": {},
   "cell_type": "markdown",
   "source": "### Ca - C - N",
   "id": "3b54b43fbd372f47"
  },
  {
   "metadata": {},
   "cell_type": "markdown",
   "source": "### C - N - Ca",
   "id": "fb887dce709dea2"
  },
  {
   "metadata": {},
   "cell_type": "markdown",
   "source": "",
   "id": "9d32fd42e60bdaa3"
  },
  {
   "metadata": {},
   "cell_type": "markdown",
   "source": "### O - C - N",
   "id": "7896b703a49d2a71"
  },
  {
   "metadata": {
    "ExecuteTime": {
     "end_time": "2024-12-09T18:48:42.010751Z",
     "start_time": "2024-12-09T18:48:42.008347Z"
    }
   },
   "cell_type": "code",
   "source": "",
   "id": "c7c62f41f43c88d1",
   "outputs": [],
   "execution_count": null
  },
  {
   "metadata": {},
   "cell_type": "code",
   "outputs": [],
   "execution_count": null,
   "source": "",
   "id": "7e14ab893ea83625"
  }
 ],
 "metadata": {
  "kernelspec": {
   "display_name": "Python 3 (ipykernel)",
   "language": "python",
   "name": "python3"
  },
  "language_info": {
   "codemirror_mode": {
    "name": "ipython",
    "version": 3
   },
   "file_extension": ".py",
   "mimetype": "text/x-python",
   "name": "python",
   "nbconvert_exporter": "python",
   "pygments_lexer": "ipython3",
   "version": "3.12.2"
  }
 },
 "nbformat": 4,
 "nbformat_minor": 5
}
