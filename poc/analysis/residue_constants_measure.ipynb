{
 "cells": [
  {
   "cell_type": "markdown",
   "id": "57ae42b74be93d5b",
   "metadata": {},
   "source": [
    "# Residue Constants"
   ]
  },
  {
   "cell_type": "markdown",
   "id": "c093102bbbb67cac",
   "metadata": {},
   "source": [
    "Distances:\n",
    "- ca - ca ✓\n",
    "- c - o ✓\n",
    "- c - n ✓\n",
    "- n - h - no H atoms in samples\n",
    "\n",
    "Angles:\n",
    "- n - ca - c ✓\n",
    "- ca - c - o ✓\n",
    "- ca - c - n ✓\n",
    "- c - n - ca ✓\n",
    "- c - n - h - no H atoms in samples"
   ]
  },
  {
   "cell_type": "code",
   "execution_count": 27,
   "id": "115911a73b5c1872",
   "metadata": {
    "ExecuteTime": {
     "end_time": "2025-04-03T02:21:48.661548Z",
     "start_time": "2025-04-03T02:21:48.655555Z"
    }
   },
   "outputs": [],
   "source": [
    "import json\n",
    "import math\n",
    "import matplotlib.pyplot as plt\n",
    "import numpy as np\n",
    "import os\n",
    "\n",
    "from collections import defaultdict\n",
    "from poc.analysis.af_residue_constants import rigid_group_atom_positions"
   ]
  },
  {
   "cell_type": "markdown",
   "id": "45907849d649b939",
   "metadata": {},
   "source": [
    "## Sample Files"
   ]
  },
  {
   "cell_type": "code",
   "execution_count": 28,
   "id": "363f8a4c7b3d24dc",
   "metadata": {
    "ExecuteTime": {
     "end_time": "2025-04-03T02:21:48.999045Z",
     "start_time": "2025-04-03T02:21:48.994115Z"
    }
   },
   "outputs": [
    {
     "data": {
      "text/plain": [
       "['data/3cln.cif',\n",
       " 'data/2bl2.cif',\n",
       " 'data/8zts.cif',\n",
       " 'data/4hhb.cif',\n",
       " 'data/8xnj.cif',\n",
       " 'data/1stp.cif',\n",
       " 'data/4ake.cif',\n",
       " 'data/2hhb.cif',\n",
       " 'data/9f2a.cif',\n",
       " 'data/5t4p.cif',\n",
       " 'data/6m17.cif',\n",
       " 'data/9jwd.cif',\n",
       " 'data/1a4y.cif',\n",
       " 'data/9h44.cif',\n",
       " 'data/8ykn.cif']"
      ]
     },
     "execution_count": 28,
     "metadata": {},
     "output_type": "execute_result"
    }
   ],
   "source": [
    "data_dir = 'data'\n",
    "transformed_data = data_dir + '/transformed.json'\n",
    "if os.path.exists(transformed_data):\n",
    "    os.remove(transformed_data)\n",
    "samples = [os.path.join(data_dir, filename) for filename in os.listdir(data_dir)]\n",
    "samples = [sample for sample in samples if '.DS_Store' not in sample]\n",
    "samples"
   ]
  },
  {
   "cell_type": "markdown",
   "id": "cc537c178926677a",
   "metadata": {},
   "source": [
    "## Process files to new format"
   ]
  },
  {
   "cell_type": "code",
   "execution_count": 29,
   "id": "961f07699c6efa6d",
   "metadata": {
    "ExecuteTime": {
     "end_time": "2025-04-03T02:21:49.892296Z",
     "start_time": "2025-04-03T02:21:49.378329Z"
    }
   },
   "outputs": [],
   "source": [
    "amino_acids = []\n",
    "for sample in samples:\n",
    "    with open(sample, 'r') as f:\n",
    "        chain_before = None\n",
    "        seq_id_before = None\n",
    "        current_aa = []\n",
    "        current_chain = defaultdict(list)\n",
    "        for line in f:\n",
    "            data = line.strip().split()\n",
    "            if data[0] != 'ATOM': continue\n",
    "            seq_id = data[8]\n",
    "            chain = data[18]\n",
    "            if chain != chain_before and chain_before is not None:\n",
    "                amino_acids.append(*current_chain.values())\n",
    "                current_chain = defaultdict(list)\n",
    "            if seq_id != seq_id_before and seq_id_before is not None:\n",
    "                current_chain[chain].append(current_aa)\n",
    "                current_aa = []\n",
    "            aa = data[5]\n",
    "            atom_id = data[3]\n",
    "            x = float(data[10])\n",
    "            y = float(data[11])\n",
    "            z = float(data[12])\n",
    "            if len(current_aa) == 0:\n",
    "                current_aa.append(data[5])\n",
    "            current_aa.append((atom_id, x, y, z))\n",
    "            chain_before = chain\n",
    "            seq_id_before = seq_id\n",
    "        amino_acids.append(*current_chain.values())\n",
    "\n",
    "with open(transformed_data, 'w') as f:\n",
    "    json.dump(amino_acids, f, indent=4)"
   ]
  },
  {
   "cell_type": "code",
   "id": "ee44e6d896d3e458",
   "metadata": {
    "ExecuteTime": {
     "end_time": "2025-04-03T02:32:02.212940Z",
     "start_time": "2025-04-03T02:32:02.206146Z"
    }
   },
   "source": [
    "# utility function\n",
    "def bplot_data_with_stats(data, title: str, label: str, fn: str):\n",
    "    plt.boxplot(data, vert=False)\n",
    "\n",
    "    handles = [\n",
    "        plt.Line2D([0], [0], color='blue', label=f\"Mean: {np.mean(data):.10f}\"),\n",
    "        plt.Line2D([0], [0], color='orange', label=f\"Median: {np.median(data):.10f}\"),\n",
    "    ]\n",
    "    plt.legend(handles=handles, loc='upper right')\n",
    "\n",
    "    plt.title(title)\n",
    "    plt.xlabel(label)\n",
    "    plt.savefig(f\"plt/{fn}.png\", dpi=600)\n",
    "    plt.show()"
   ],
   "outputs": [],
   "execution_count": 58
  },
  {
   "cell_type": "markdown",
   "id": "d2e9a454f9689521",
   "metadata": {},
   "source": [
    "## Data stats"
   ]
  },
  {
   "cell_type": "code",
   "execution_count": null,
   "id": "e069cc8cb14fb0fe",
   "metadata": {},
   "outputs": [],
   "source": [
    "disassembled_acids = defaultdict(int)\n",
    "for chain in amino_acids:\n",
    "    for aa in chain:\n",
    "        disassembled_acids[aa[0]] += 1\n",
    "\n",
    "total = sum(disassembled_acids.values())\n",
    "plt.figure(figsize=(10, 6))\n",
    "plt.bar(disassembled_acids.keys(), list(disassembled_acids.values()), width=0.4)\n",
    "plt.show()\n",
    "\n",
    "print('Total analyzed amino acids:', total)\n"
   ]
  },
  {
   "cell_type": "markdown",
   "id": "5f97e3b5eed754eb",
   "metadata": {},
   "source": [
    "### Alpha Folds Measurements"
   ]
  },
  {
   "cell_type": "code",
   "execution_count": 33,
   "id": "11739a25de0ff63a",
   "metadata": {
    "ExecuteTime": {
     "end_time": "2025-04-03T02:21:50.870700Z",
     "start_time": "2025-04-03T02:21:50.868700Z"
    }
   },
   "outputs": [],
   "source": [
    "af_rigid_atom_positions = defaultdict(lambda: defaultdict(float))\n",
    "for aa, atoms in rigid_group_atom_positions.items():\n",
    "    for atom in atoms:\n",
    "        af_rigid_atom_positions[aa][atom[0]] = math.sqrt(atom[2][0]**2 + atom[2][1]**2 + atom[2][2]**2)"
   ]
  },
  {
   "cell_type": "markdown",
   "id": "76de14295ffecdd1",
   "metadata": {},
   "source": [
    "## Params"
   ]
  },
  {
   "cell_type": "code",
   "execution_count": 34,
   "id": "db38e168cc5d8554",
   "metadata": {
    "ExecuteTime": {
     "end_time": "2025-04-03T02:21:51.136379Z",
     "start_time": "2025-04-03T02:21:51.134353Z"
    }
   },
   "outputs": [],
   "source": [
    "percentile_cut = 0.05"
   ]
  },
  {
   "cell_type": "markdown",
   "id": "e4315e09745531c4",
   "metadata": {},
   "source": [
    "### Ca - Ca distance"
   ]
  },
  {
   "cell_type": "code",
   "execution_count": 35,
   "id": "276fba8c9fcf79a3",
   "metadata": {
    "ExecuteTime": {
     "end_time": "2025-04-03T02:21:51.652706Z",
     "start_time": "2025-04-03T02:21:51.630718Z"
    }
   },
   "outputs": [],
   "source": [
    "ca_ca_distances = []\n",
    "# af_ca_ca = 3.80209737096\n",
    "for chain in amino_acids:\n",
    "    ca_before = None\n",
    "    for aa in chain:\n",
    "        for atom in aa[1:]:\n",
    "            if atom[0] != 'CA': continue\n",
    "            if ca_before is None:\n",
    "                ca_before = atom\n",
    "                continue\n",
    "            ca_ca_distances.append(\n",
    "                math.sqrt(\n",
    "                    (ca_before[1]-atom[1])**2 + (ca_before[2]-atom[2])**2 + (ca_before[3]-atom[3])**2\n",
    "                )\n",
    "            )\n",
    "            ca_before = atom\n",
    "\n",
    "perc = int(len(ca_ca_distances) * percentile_cut)\n",
    "ca_ca_distances = np.array(sorted(ca_ca_distances)[perc:-perc])\n",
    "# ca_ca_distances = np.array(ca_ca_distances)"
   ]
  },
  {
   "cell_type": "code",
   "id": "c4ece0e62a52c162",
   "metadata": {
    "ExecuteTime": {
     "end_time": "2025-04-03T02:32:05.211076Z",
     "start_time": "2025-04-03T02:32:05.025993Z"
    }
   },
   "source": "bplot_data_with_stats(ca_ca_distances, 'Ca-Ca distance', 'Distance [Å]', 'distance_ca_ca')",
   "outputs": [
    {
     "data": {
      "text/plain": [
       "<Figure size 640x480 with 1 Axes>"
      ],
      "image/png": "[encoded data removed]"
     },
     "metadata": {},
     "output_type": "display_data"
    }
   ],
   "execution_count": 59
  },
  {
   "cell_type": "markdown",
   "id": "a321f0df48c61dee",
   "metadata": {},
   "source": [
    "### C - O distance"
   ]
  },
  {
   "cell_type": "code",
   "execution_count": null,
   "id": "e21724eb1b9c123c",
   "metadata": {},
   "outputs": [],
   "source": [
    "c_o_distances = []\n",
    "for chain in amino_acids:\n",
    "    for aa in chain:\n",
    "        c = next(atom for atom in aa[1:] if atom[0] == 'C')\n",
    "        o = next(atom for atom in aa[1:] if atom[0] == 'O')\n",
    "\n",
    "        c_o_distances.append(\n",
    "            math.sqrt(\n",
    "                (c[1]-o[1])**2 + (c[2]-o[2])**2 + (c[3]-o[3])**2\n",
    "            )\n",
    "        )\n",
    "\n",
    "perc = int(len(c_o_distances) * percentile_cut)\n",
    "c_o_distances = np.array(sorted(c_o_distances)[perc:-perc])"
   ]
  },
  {
   "cell_type": "code",
   "id": "8ada0f082612b188",
   "metadata": {
    "ExecuteTime": {
     "end_time": "2025-04-03T02:32:43.222883Z",
     "start_time": "2025-04-03T02:32:42.991487Z"
    }
   },
   "source": "bplot_data_with_stats(c_o_distances, 'C-O distance', 'Distance [Å]', 'distance_c_o')",
   "outputs": [
    {
     "data": {
      "text/plain": [
       "<Figure size 640x480 with 1 Axes>"
      ],
      "image/png": "[encoded data removed]"
     },
     "metadata": {},
     "output_type": "display_data"
    }
   ],
   "execution_count": 60
  },
  {
   "cell_type": "markdown",
   "id": "fd7f21d172f76188",
   "metadata": {},
   "source": [
    "### C - N distance"
   ]
  },
  {
   "cell_type": "code",
   "execution_count": 39,
   "id": "a6564d1a2e19a020",
   "metadata": {
    "ExecuteTime": {
     "end_time": "2025-04-03T02:21:53.378102Z",
     "start_time": "2025-04-03T02:21:53.356160Z"
    }
   },
   "outputs": [],
   "source": [
    "c_n_distances = []\n",
    "for chain in amino_acids:\n",
    "    c_before = None\n",
    "    for aa in chain:\n",
    "        for atom in aa[1:]:\n",
    "            if atom[0] not in ['C', 'N']: continue\n",
    "            if c_before is None and atom[0] == 'C':\n",
    "                c_before = atom\n",
    "                continue\n",
    "            if c_before is not None and atom[0] == 'N':\n",
    "                c_n_distances.append(\n",
    "                    math.sqrt(\n",
    "                         (c_before[1]-atom[1])**2 + (c_before[2]-atom[2])**2 + (c_before[3]-atom[3])**2\n",
    "                    )\n",
    "                )\n",
    "                c_before = None\n",
    "\n",
    "perc = int(len(c_n_distances) * percentile_cut)\n",
    "c_n_distances = np.array(sorted(c_n_distances)[perc:-perc])"
   ]
  },
  {
   "cell_type": "code",
   "id": "d05c8970d9ce8ebd",
   "metadata": {
    "ExecuteTime": {
     "end_time": "2025-04-03T02:32:57.201897Z",
     "start_time": "2025-04-03T02:32:56.985584Z"
    }
   },
   "source": "bplot_data_with_stats(c_n_distances, 'C-N distance', 'Distance [Å]', 'distance_c_n')",
   "outputs": [
    {
     "data": {
      "text/plain": [
       "<Figure size 640x480 with 1 Axes>"
      ],
      "image/png": "[encoded data removed]"
     },
     "metadata": {},
     "output_type": "display_data"
    }
   ],
   "execution_count": 61
  },
  {
   "cell_type": "markdown",
   "id": "cfd0e065302160e7",
   "metadata": {},
   "source": [
    "## Angles"
   ]
  },
  {
   "cell_type": "code",
   "execution_count": 41,
   "id": "eb3e7eb406f89910",
   "metadata": {
    "ExecuteTime": {
     "end_time": "2025-04-03T02:21:54.329134Z",
     "start_time": "2025-04-03T02:21:54.326141Z"
    }
   },
   "outputs": [],
   "source": [
    "def unit_vector(vector):\n",
    "    return vector / np.linalg.norm(vector)\n",
    "\n",
    "def calculate_angle(p1, p2, p3):\n",
    "    # print('p1', p1)\n",
    "    # print('p2', p2)\n",
    "    # print('p3', p3)\n",
    "    v1 = p1 - p2\n",
    "    v2 = p3 - p2\n",
    "    v1_u = v1 / np.linalg.norm(v1)\n",
    "    v2_u = v2 / np.linalg.norm(v2)\n",
    "    # print('v1', v1, v1_u)\n",
    "    # print('v2', v2, v2_u)\n",
    "    return np.degrees(np.arccos(np.clip(np.dot(v1_u, v2_u), -1.0, 1.0)))"
   ]
  },
  {
   "cell_type": "markdown",
   "id": "76e29009a303162b",
   "metadata": {},
   "source": [
    "The first two angles are completely within one amino acid, so the data is processed accordingly."
   ]
  },
  {
   "cell_type": "code",
   "execution_count": 42,
   "id": "aec679c8664e2ff",
   "metadata": {
    "ExecuteTime": {
     "end_time": "2025-04-03T02:21:55.394630Z",
     "start_time": "2025-04-03T02:21:55.387110Z"
    }
   },
   "outputs": [],
   "source": [
    "aas = defaultdict(list)\n",
    "for chain in amino_acids:\n",
    "    for aa in chain:\n",
    "        aas[aa[0]].append(aa[1:])\n"
   ]
  },
  {
   "cell_type": "code",
   "execution_count": 43,
   "id": "998c8322d978206e",
   "metadata": {
    "ExecuteTime": {
     "end_time": "2025-04-03T02:21:55.824348Z",
     "start_time": "2025-04-03T02:21:55.820524Z"
    }
   },
   "outputs": [],
   "source": [
    "def get_data_for_angle(a1: str, a2: str, a3: str) -> np.array:\n",
    "    angles = []\n",
    "    for key, values in aas.items():\n",
    "        for aa in values:\n",
    "            n = next(atom for atom in aa if atom[0] == a1)\n",
    "            ca = next(atom for atom in aa if atom[0] == a2)\n",
    "            c = next(atom for atom in aa if atom[0] == a3)\n",
    "            angle = calculate_angle(np.array(n[1:]), np.array(ca[1:]), np.array(c[1:]))\n",
    "            angles.append(angle)\n",
    "\n",
    "    perc = int(len(angles) * percentile_cut)\n",
    "    return np.array(sorted(angles)[perc:-perc])\n"
   ]
  },
  {
   "cell_type": "markdown",
   "id": "12e2956674dbfed2",
   "metadata": {},
   "source": [
    "### N - Ca - C\n"
   ]
  },
  {
   "cell_type": "code",
   "id": "4b70b5a1d844fa38",
   "metadata": {
    "ExecuteTime": {
     "end_time": "2025-04-03T02:33:19.573147Z",
     "start_time": "2025-04-03T02:33:19.208926Z"
    }
   },
   "source": "bplot_data_with_stats(get_data_for_angle('N', 'CA', 'C'), 'N-Ca-C angle', 'Angle [°]', 'angle_n_ca_c')",
   "outputs": [
    {
     "data": {
      "text/plain": [
       "<Figure size 640x480 with 1 Axes>"
      ],
      "image/png": "[encoded data removed]"
     },
     "metadata": {},
     "output_type": "display_data"
    }
   ],
   "execution_count": 62
  },
  {
   "cell_type": "markdown",
   "id": "5cac49050e6f715",
   "metadata": {},
   "source": [
    "### Ca - C - O"
   ]
  },
  {
   "cell_type": "code",
   "id": "373432a558e827f",
   "metadata": {
    "ExecuteTime": {
     "end_time": "2025-04-03T02:33:35.914875Z",
     "start_time": "2025-04-03T02:33:35.295413Z"
    }
   },
   "source": "bplot_data_with_stats(get_data_for_angle('CA', 'C', 'O'), 'Ca-C-O angle', 'Angle [°]', 'angle_ca_c_o')",
   "outputs": [
    {
     "data": {
      "text/plain": [
       "<Figure size 640x480 with 1 Axes>"
      ],
      "image/png": "[encoded data removed]"
     },
     "metadata": {},
     "output_type": "display_data"
    }
   ],
   "execution_count": 63
  },
  {
   "cell_type": "markdown",
   "id": "831e34f00e311677",
   "metadata": {},
   "source": [
    "### Ca - C - N"
   ]
  },
  {
   "cell_type": "code",
   "execution_count": 46,
   "id": "596a837b39aae53b",
   "metadata": {
    "ExecuteTime": {
     "end_time": "2025-04-03T02:21:59.583210Z",
     "start_time": "2025-04-03T02:21:59.413499Z"
    }
   },
   "outputs": [],
   "source": [
    "ca_c_n_angles = []\n",
    "for chain in amino_acids:\n",
    "    for i in range(len(chain) - 1):\n",
    "        res1 = chain[i]\n",
    "        res2 = chain[i + 1]\n",
    "        ca = next(atom for atom in res1[1:] if atom[0] == 'CA')\n",
    "        c  = next(atom for atom in res1[1:] if atom[0] == 'C')\n",
    "        n  = next(atom for atom in res2[1:] if atom[0] == 'N')\n",
    "        ca_c_n_angles.append(calculate_angle(np.array(ca[1:]), np.array(c[1:]), np.array(n[1:])))\n",
    "perc = int(len(ca_c_n_angles) * percentile_cut)\n",
    "ca_c_n_angles = np.array(sorted(ca_c_n_angles)[perc:-perc])"
   ]
  },
  {
   "cell_type": "code",
   "id": "19d101df908ce293",
   "metadata": {
    "ExecuteTime": {
     "end_time": "2025-04-03T02:33:50.612513Z",
     "start_time": "2025-04-03T02:33:50.420274Z"
    }
   },
   "source": "bplot_data_with_stats(ca_c_n_angles, 'Ca-C-N angle', 'Angle [°]', 'angle_ca_c_n')",
   "outputs": [
    {
     "data": {
      "text/plain": [
       "<Figure size 640x480 with 1 Axes>"
      ],
      "image/png": "[encoded data removed]"
     },
     "metadata": {},
     "output_type": "display_data"
    }
   ],
   "execution_count": 64
  },
  {
   "cell_type": "markdown",
   "id": "3b54b43fbd372f47",
   "metadata": {},
   "source": [
    "### C - N - CA"
   ]
  },
  {
   "cell_type": "code",
   "execution_count": 48,
   "id": "e45e7a606108bb3b",
   "metadata": {
    "ExecuteTime": {
     "end_time": "2025-04-03T02:22:00.801315Z",
     "start_time": "2025-04-03T02:22:00.643006Z"
    }
   },
   "outputs": [],
   "source": [
    "c_n_ca_angles = []\n",
    "for chain in amino_acids:\n",
    "    for i in range(len(chain) - 1):\n",
    "        res1 = chain[i]\n",
    "        res2 = chain[i + 1]\n",
    "        ca = next(atom for atom in res1[1:] if atom[0] == 'C')\n",
    "        c  = next(atom for atom in res2[1:] if atom[0] == 'N')\n",
    "        n  = next(atom for atom in res2[1:] if atom[0] == 'CA')\n",
    "        c_n_ca_angles.append(calculate_angle(np.array(ca[1:]), np.array(c[1:]), np.array(n[1:])))\n",
    "perc = int(len(c_n_ca_angles) * percentile_cut)\n",
    "c_n_ca_angles = np.array(sorted(c_n_ca_angles)[perc:-perc])"
   ]
  },
  {
   "cell_type": "code",
   "id": "82ad6d351d4de727",
   "metadata": {
    "ExecuteTime": {
     "end_time": "2025-04-03T02:34:01.085184Z",
     "start_time": "2025-04-03T02:34:00.890082Z"
    }
   },
   "source": "bplot_data_with_stats(c_n_ca_angles, 'C-N-Ca angle', 'Angle [°]', 'angle_c_n_ca')",
   "outputs": [
    {
     "data": {
      "text/plain": [
       "<Figure size 640x480 with 1 Axes>"
      ],
      "image/png": "[encoded data removed]"
     },
     "metadata": {},
     "output_type": "display_data"
    }
   ],
   "execution_count": 65
  },
  {
   "metadata": {},
   "cell_type": "code",
   "outputs": [],
   "execution_count": null,
   "source": "",
   "id": "299ddd8c6eb051b1"
  }
 ],
 "metadata": {
  "kernelspec": {
   "display_name": "Python 3 (ipykernel)",
   "language": "python",
   "name": "python3"
  },
  "language_info": {
   "codemirror_mode": {
    "name": "ipython",
    "version": 3
   },
   "file_extension": ".py",
   "mimetype": "text/x-python",
   "name": "python",
   "nbconvert_exporter": "python",
   "pygments_lexer": "ipython3",
   "version": "3.13.0"
  }
 },
 "nbformat": 4,
 "nbformat_minor": 5
}
